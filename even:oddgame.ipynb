{
 "cells": [
  {
   "cell_type": "code",
   "execution_count": 5,
   "id": "4868ca6c-16ba-4609-a952-f58612c80ca2",
   "metadata": {},
   "outputs": [
    {
     "name": "stdin",
     "output_type": "stream",
     "text": [
      "Welcome, please enter your name : Kaltoum\n",
      "Kaltoum, please enter a number from 1 to 100 and let us see whether it is odd or even:  97\n"
     ]
    },
    {
     "name": "stdout",
     "output_type": "stream",
     "text": [
      "97 is an odd number.\n"
     ]
    },
    {
     "name": "stdin",
     "output_type": "stream",
     "text": [
      "Do you want keep playing ? Type 1 to keep on or 0 to stop !! 1\n",
      "Kaltoum, please enter a number from 1 to 100 and let us see whether it is odd or even:  56\n"
     ]
    },
    {
     "name": "stdout",
     "output_type": "stream",
     "text": [
      "56 is a an even number.\n"
     ]
    },
    {
     "name": "stdin",
     "output_type": "stream",
     "text": [
      "Do you want keep playing ? Type 1 to keep on or 0 to stop !! 0\n"
     ]
    },
    {
     "name": "stdout",
     "output_type": "stream",
     "text": [
      "We are sorry to see you leaving Kaltoum, see you next time !!\n"
     ]
    }
   ],
   "source": [
    "name = input(\"Welcome, please enter your name :\")\n",
    "while True :\n",
    "    number = int(input(f\"{name}, please enter a number from 1 to 100 and let us see whether it is odd or even: \"))\n",
    "     \n",
    "    if number % 2 == 0:\n",
    "        print(number, \"is a an even number.\")\n",
    "    else:\n",
    "        print(number, \"is an odd number.\")\n",
    "\n",
    "    option = input(\"Do you want keep playing ? Type 1 to keep on or 0 to stop !!\")\n",
    "    if option ==\"0\":\n",
    "        print(f\"We are sorry to see you leaving {name}, see you next time !!\")\n",
    "        break\n",
    "        print(\"Submitted  by : Kaltoum Mai Moussa Chetima\")"
   ]
  },
  {
   "cell_type": "code",
   "execution_count": null,
   "id": "779706d7-a246-455f-bbbb-7c5a3364d54c",
   "metadata": {},
   "outputs": [],
   "source": []
  }
 ],
 "metadata": {
  "kernelspec": {
   "display_name": "Python [conda env:base] *",
   "language": "python",
   "name": "conda-base-py"
  },
  "language_info": {
   "codemirror_mode": {
    "name": "ipython",
    "version": 3
   },
   "file_extension": ".py",
   "mimetype": "text/x-python",
   "name": "python",
   "nbconvert_exporter": "python",
   "pygments_lexer": "ipython3",
   "version": "3.12.7"
  }
 },
 "nbformat": 4,
 "nbformat_minor": 5
}
